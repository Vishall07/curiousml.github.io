{
 "cells": [
  {
   "cell_type": "markdown",
   "metadata": {},
   "source": [
    "# Introduction to statistics with python"
   ]
  },
  {
   "cell_type": "code",
   "execution_count": 1,
   "metadata": {},
   "outputs": [
    {
     "data": {
      "text/html": [
       "<div id=\"my_id_menu_nb\">run previous cell, wait for 2 seconds</div>\n",
       "<script>\n",
       "function repeat_indent_string(n){\n",
       "    var a = \"\" ;\n",
       "    for ( ; n > 0 ; --n)\n",
       "        a += \"    \";\n",
       "    return a;\n",
       "}\n",
       "// look up into all sections and builds an automated menu //\n",
       "var update_menu_string = function(begin, lfirst, llast, sformat, send, keep_item, begin_format, end_format) {\n",
       "    var anchors = document.getElementsByClassName(\"section\");\n",
       "    if (anchors.length == 0) {\n",
       "        anchors = document.getElementsByClassName(\"text_cell_render rendered_html\");\n",
       "    }\n",
       "    var i,t;\n",
       "    var text_menu = begin;\n",
       "    var text_memo = \"<pre>\\nlength:\" + anchors.length + \"\\n\";\n",
       "    var ind = \"\";\n",
       "    var memo_level = 1;\n",
       "    var href;\n",
       "    var tags = [];\n",
       "    var main_item = 0;\n",
       "    var format_open = 0;\n",
       "    for (i = 0; i <= llast; i++)\n",
       "        tags.push(\"h\" + i);\n",
       "\n",
       "    for (i = 0; i < anchors.length; i++) {\n",
       "        text_memo += \"**\" + anchors[i].id + \"--\\n\";\n",
       "\n",
       "        var child = null;\n",
       "        for(t = 0; t < tags.length; t++) {\n",
       "            var r = anchors[i].getElementsByTagName(tags[t]);\n",
       "            if (r.length > 0) {\n",
       "child = r[0];\n",
       "break;\n",
       "            }\n",
       "        }\n",
       "        if (child == null) {\n",
       "            text_memo += \"null\\n\";\n",
       "            continue;\n",
       "        }\n",
       "        if (anchors[i].hasAttribute(\"id\")) {\n",
       "            // when converted in RST\n",
       "            href = anchors[i].id;\n",
       "            text_memo += \"#1-\" + href;\n",
       "            // passer à child suivant (le chercher)\n",
       "        }\n",
       "        else if (child.hasAttribute(\"id\")) {\n",
       "            // in a notebook\n",
       "            href = child.id;\n",
       "            text_memo += \"#2-\" + href;\n",
       "        }\n",
       "        else {\n",
       "            text_memo += \"#3-\" + \"*\" + \"\\n\";\n",
       "            continue;\n",
       "        }\n",
       "        var title = child.textContent;\n",
       "        var level = parseInt(child.tagName.substring(1,2));\n",
       "\n",
       "        text_memo += \"--\" + level + \"?\" + lfirst + \"--\" + title + \"\\n\";\n",
       "\n",
       "        if ((level < lfirst) || (level > llast)) {\n",
       "            continue ;\n",
       "        }\n",
       "        if (title.endsWith('¶')) {\n",
       "            title = title.substring(0,title.length-1).replace(\"<\", \"&lt;\")\n",
       "         .replace(\">\", \"&gt;\").replace(\"&\", \"&amp;\");\n",
       "        }\n",
       "        if (title.length == 0) {\n",
       "            continue;\n",
       "        }\n",
       "\n",
       "        while (level < memo_level) {\n",
       "            text_menu += end_format + \"</ul>\\n\";\n",
       "            format_open -= 1;\n",
       "            memo_level -= 1;\n",
       "        }\n",
       "        if (level == lfirst) {\n",
       "            main_item += 1;\n",
       "        }\n",
       "        if (keep_item != -1 && main_item != keep_item + 1) {\n",
       "            // alert(main_item + \" - \" + level + \" - \" + keep_item);\n",
       "            continue;\n",
       "        }\n",
       "        while (level > memo_level) {\n",
       "            text_menu += \"<ul>\\n\";\n",
       "            memo_level += 1;\n",
       "        }\n",
       "        text_menu += repeat_indent_string(level-2);\n",
       "        text_menu += begin_format + sformat.replace(\"__HREF__\", href).replace(\"__TITLE__\", title);\n",
       "        format_open += 1;\n",
       "    }\n",
       "    while (1 < memo_level) {\n",
       "        text_menu += end_format + \"</ul>\\n\";\n",
       "        memo_level -= 1;\n",
       "        format_open -= 1;\n",
       "    }\n",
       "    text_menu += send;\n",
       "    //text_menu += \"\\n\" + text_memo;\n",
       "\n",
       "    while (format_open > 0) {\n",
       "        text_menu += end_format;\n",
       "        format_open -= 1;\n",
       "    }\n",
       "    return text_menu;\n",
       "};\n",
       "var update_menu = function() {\n",
       "    var sbegin = \"\";\n",
       "    var sformat = '<a href=\"#__HREF__\">__TITLE__</a>';\n",
       "    var send = \"\";\n",
       "    var begin_format = '<li>';\n",
       "    var end_format = '</li>';\n",
       "    var keep_item = -1;\n",
       "    var text_menu = update_menu_string(sbegin, 2, 4, sformat, send, keep_item,\n",
       "       begin_format, end_format);\n",
       "    var menu = document.getElementById(\"my_id_menu_nb\");\n",
       "    menu.innerHTML=text_menu;\n",
       "};\n",
       "window.setTimeout(update_menu,2000);\n",
       "            </script>"
      ],
      "text/plain": [
       "<IPython.core.display.HTML object>"
      ]
     },
     "execution_count": 1,
     "metadata": {},
     "output_type": "execute_result"
    }
   ],
   "source": [
    "from jyquickhelper import add_notebook_menu\n",
    "add_notebook_menu()"
   ]
  },
  {
   "cell_type": "markdown",
   "metadata": {},
   "source": [
    "# Sampling and testing"
   ]
  },
  {
   "cell_type": "markdown",
   "metadata": {},
   "source": [
    "## 1. Random sampling with numpy"
   ]
  },
  {
   "cell_type": "markdown",
   "metadata": {},
   "source": [
    "### 1.1. Simple random data\n",
    "[Numpy](http://docs.scipy.org/doc/numpy/reference/routines.random.html#random-generator) offers several routines to generate easily uniform and random samples:"
   ]
  },
  {
   "cell_type": "code",
   "execution_count": 1,
   "metadata": {},
   "outputs": [
    {
     "data": {
      "text/plain": [
       "array([[0.36, 0.43, 0.96, 0.11],\n",
       "       [0.81, 0.92, 0.93, 0.99],\n",
       "       [0.7 , 0.57, 0.26, 0.28],\n",
       "       [0.96, 0.58, 0.91, 0.2 ]])"
      ]
     },
     "execution_count": 1,
     "metadata": {},
     "output_type": "execute_result"
    }
   ],
   "source": [
    "import numpy as np\n",
    "import numpy.random as rdm\n",
    "np.set_printoptions(precision=2)\n",
    "\n",
    "rdm.rand(4, 4)  # Uniform sampling"
   ]
  },
  {
   "cell_type": "code",
   "execution_count": 2,
   "metadata": {},
   "outputs": [
    {
     "data": {
      "text/plain": [
       "array([[-0.3 ,  0.12, -0.3 ,  0.56],\n",
       "       [-0.07, -1.26,  2.08,  0.41],\n",
       "       [-1.21,  0.52,  0.47, -1.18],\n",
       "       [ 1.31,  0.16,  0.16, -2.04]])"
      ]
     },
     "execution_count": 2,
     "metadata": {},
     "output_type": "execute_result"
    }
   ],
   "source": [
    "rdm.randn(4, 4)  # Standard normal sampling"
   ]
  },
  {
   "cell_type": "code",
   "execution_count": 3,
   "metadata": {},
   "outputs": [
    {
     "data": {
      "text/plain": [
       "array([[5, 9, 9],\n",
       "       [6, 4, 7]])"
      ]
     },
     "execution_count": 3,
     "metadata": {},
     "output_type": "execute_result"
    }
   ],
   "source": [
    "rdm.randint(0, 10, size=(2, 3))  # Discrete uniform sampling (10 exclusive)"
   ]
  },
  {
   "cell_type": "markdown",
   "metadata": {},
   "source": [
    "In the case where the sampled integers are supposed to index an array, on can replace:"
   ]
  },
  {
   "cell_type": "code",
   "execution_count": 4,
   "metadata": {},
   "outputs": [
    {
     "data": {
      "text/plain": [
       "array([30, 30, 30, 40, 30, 10, 40])"
      ]
     },
     "execution_count": 4,
     "metadata": {},
     "output_type": "execute_result"
    }
   ],
   "source": [
    "a = np.arange(10)*10\n",
    "\n",
    "ind = rdm.randint(0, 5, size=7)\n",
    "a[ind]"
   ]
  },
  {
   "cell_type": "markdown",
   "metadata": {},
   "source": [
    "by:"
   ]
  },
  {
   "cell_type": "code",
   "execution_count": 5,
   "metadata": {},
   "outputs": [
    {
     "data": {
      "text/plain": [
       "array([50, 20, 90, 60, 60,  0, 10])"
      ]
     },
     "execution_count": 5,
     "metadata": {},
     "output_type": "execute_result"
    }
   ],
   "source": [
    "rdm.choice(a, size=7)"
   ]
  },
  {
   "cell_type": "markdown",
   "metadata": {},
   "source": [
    "The previous routines sample integers with replacement.\n",
    "To sample without replacement, one can use:"
   ]
  },
  {
   "cell_type": "code",
   "execution_count": 6,
   "metadata": {},
   "outputs": [
    {
     "data": {
      "text/plain": [
       "array([3, 6, 5, 9, 1, 7, 8])"
      ]
     },
     "execution_count": 6,
     "metadata": {},
     "output_type": "execute_result"
    }
   ],
   "source": [
    "rdm.permutation(10)[:7]  # 7 first item of a random permutation of [0, …, 9]"
   ]
  },
  {
   "cell_type": "markdown",
   "metadata": {},
   "source": [
    "Note that one can also directly permute an array with a copy (*permutation*) or in-place (*shuffle*), instead of generating random indexes.\n",
    "\n",
    "### 1.2. Random generator\n",
    "It is obvious that random generators used in scientific computing are in fact pseudo-random generators.\n",
    "As a consequence, the practitioner is able to control them to a certain extent.\n",
    "In a way, this is good news for reproducible science !\n",
    "\n",
    "Both examples below illustrate how to replay a random sampling."
   ]
  },
  {
   "cell_type": "code",
   "execution_count": 7,
   "metadata": {},
   "outputs": [
    {
     "name": "stdout",
     "output_type": "stream",
     "text": [
      "[44 47 64]\n",
      "[37 12 72]\n",
      "[40 15 72]\n"
     ]
    }
   ],
   "source": [
    "for it in range(3):\n",
    "    rdm.seed(it)  # Seed the generator to the current iteration number\n",
    "    print(rdm.randint(100, size=3))"
   ]
  },
  {
   "cell_type": "code",
   "execution_count": 8,
   "metadata": {},
   "outputs": [
    {
     "name": "stdout",
     "output_type": "stream",
     "text": [
      "[44 47 64]\n",
      "[37 12 72]\n",
      "[40 15 72]\n"
     ]
    }
   ],
   "source": [
    "for it in range(3):\n",
    "    rdm.seed(it)  # Seed the generator to the current iteration number\n",
    "    print(rdm.randint(100, size=3))  # Same as before!"
   ]
  },
  {
   "cell_type": "code",
   "execution_count": 9,
   "metadata": {},
   "outputs": [
    {
     "name": "stdout",
     "output_type": "stream",
     "text": [
      "[-2.14  1.64 -1.79]\n",
      "[[0.2  0.62 0.3 ]\n",
      " [0.27 0.62 0.53]\n",
      " [0.13 0.51 0.18]]\n"
     ]
    }
   ],
   "source": [
    "s = rdm.get_state()  # Get the internal state of the generator\n",
    "print(np.array([rdm.randn() for it in range(3)]))\n",
    "print(rdm.rand(3, 3))"
   ]
  },
  {
   "cell_type": "code",
   "execution_count": 10,
   "metadata": {},
   "outputs": [
    {
     "name": "stdout",
     "output_type": "stream",
     "text": [
      "[-2.14]\n",
      "[1.64]\n",
      "[-1.79]\n"
     ]
    }
   ],
   "source": [
    "rdm.set_state(s)  # Set the internal state of the generator to its previous value\n",
    "for it in range(3):\n",
    "    print(rdm.randn(1))  # Same as before!"
   ]
  },
  {
   "cell_type": "markdown",
   "metadata": {},
   "source": [
    "### 1.3. Distributions\n",
    "Besides the previous routines, Numpy offers the possibility to draw samples from numerous [distributions](http://docs.scipy.org/doc/numpy/reference/routines.random.html#distributions)."
   ]
  },
  {
   "cell_type": "code",
   "execution_count": 14,
   "metadata": {},
   "outputs": [],
   "source": [
    "import warnings\n",
    "warnings.filterwarnings('ignore')"
   ]
  },
  {
   "cell_type": "code",
   "execution_count": 15,
   "metadata": {},
   "outputs": [
    {
     "name": "stdout",
     "output_type": "stream",
     "text": [
      "[ 6  5  6  6  7  4  4  3  3  6  4  3  2  4  7  2  4 10  4  7  6  3  8  5\n",
      "  3  2  4  6  2  3]\n"
     ]
    }
   ],
   "source": [
    "x = rdm.poisson(lam=4, size=500)\n",
    "print(x[:30])"
   ]
  },
  {
   "cell_type": "code",
   "execution_count": 16,
   "metadata": {},
   "outputs": [
    {
     "data": {
      "image/png": "[encoded data removed]",
      "text/plain": [
       "<Figure size 432x288 with 1 Axes>"
      ]
     },
     "metadata": {
      "needs_background": "light"
     },
     "output_type": "display_data"
    }
   ],
   "source": [
    "import matplotlib.pyplot as plt\n",
    "%matplotlib inline\n",
    "\n",
    "plt.stem(np.bincount(x));"
   ]
  },
  {
   "cell_type": "markdown",
   "metadata": {},
   "source": [
    "## 2. Other distributions with scipy"
   ]
  },
  {
   "cell_type": "markdown",
   "metadata": {},
   "source": [
    "### 2.1. Special functions\n",
    "Many raw statistical routines (cumulative, survival and inverse functions) are available in the [scipy.special](http://docs.scipy.org/doc/scipy/reference/special.html#raw-statistical-functions) mudule."
   ]
  },
  {
   "cell_type": "code",
   "execution_count": 17,
   "metadata": {},
   "outputs": [
    {
     "data": {
      "image/png": "[encoded data removed]",
      "text/plain": [
       "<Figure size 432x288 with 1 Axes>"
      ]
     },
     "metadata": {
      "needs_background": "light"
     },
     "output_type": "display_data"
    }
   ],
   "source": [
    "from scipy import special\n",
    "\n",
    "plt.stem(special.pdtr(range(15), 4));  # Poisson cumulative distribution function"
   ]
  },
  {
   "cell_type": "markdown",
   "metadata": {},
   "source": [
    "### Random variables\n",
    "[Scipy.stats](http://docs.scipy.org/doc/scipy/reference/stats.html) implements random variables with two different classes: [*continuous random variables*](http://docs.scipy.org/doc/scipy/reference/tutorial/stats/continuous.html#continuous-random-variables) and [*discrete random variables*](http://docs.scipy.org/doc/scipy/reference/tutorial/stats/discrete.html#discrete-random-variables).\n",
    "As an example, we focus here on the gamma distribution and illustrate the main methods available."
   ]
  },
  {
   "cell_type": "code",
   "execution_count": 18,
   "metadata": {},
   "outputs": [
    {
     "name": "stdout",
     "output_type": "stream",
     "text": [
      "Distribution support: [0.0, inf]\n",
      "Number of shape parameters: 1 (name: a)\n"
     ]
    }
   ],
   "source": [
    "from scipy.stats import gamma\n",
    "\n",
    "# gamma is a r.v. object corresponding to the standard gamma distribution\n",
    "print(\"Distribution support: [{}, {}]\".format(gamma.a, gamma.b))\n",
    "print(\"Number of shape parameters: {} (name: {})\".format(gamma.numargs, gamma.shapes))"
   ]
  },
  {
   "cell_type": "markdown",
   "metadata": {},
   "source": [
    "The shape parameter $a$ appears in the probability density function:\n",
    "<!-- $$f(x; a, \\lambda) = x^{a-1}\\exp(-\\lambda x) \\frac{\\lambda^a}{\\Gamma(a)}.$$ -->\n",
    "$$f(x; a) = \\frac{x^{a-1}\\exp(-x)}{\\Gamma(a)}.$$\n",
    "\n",
    "Since the shape parameter $a$ is required, one has to specify it for each method."
   ]
  },
  {
   "cell_type": "code",
   "execution_count": 19,
   "metadata": {
    "scrolled": true
   },
   "outputs": [
    {
     "name": "stdout",
     "output_type": "stream",
     "text": [
      "Mean: 4.0\n",
      "Median: 3.672060748850897\n",
      "Variance: 4.0\n"
     ]
    }
   ],
   "source": [
    "print(\"Mean:\", gamma.mean(a=4))\n",
    "print(\"Median:\", gamma.median(a=4))\n",
    "print(\"Variance:\", gamma.var(a=4))"
   ]
  },
  {
   "cell_type": "markdown",
   "metadata": {},
   "source": [
    "Two other parameters can be passed to the methods: *loc* and *scale*.\n",
    "They correspond to shifting and rescaling the input of the pdf with \n",
    "$x \\mapsto \\frac{x - loc}{scale}.$"
   ]
  },
  {
   "cell_type": "code",
   "execution_count": 20,
   "metadata": {},
   "outputs": [
    {
     "name": "stdout",
     "output_type": "stream",
     "text": [
      "Mean: 2.4\n"
     ]
    }
   ],
   "source": [
    "print(\"Mean:\", gamma.mean(a=4, loc=2, scale=0.1))"
   ]
  },
  {
   "cell_type": "markdown",
   "metadata": {},
   "source": [
    "Since, passing those parameters time and again can become quite bothersome, one can freeze a random variable:"
   ]
  },
  {
   "cell_type": "code",
   "execution_count": 21,
   "metadata": {},
   "outputs": [
    {
     "name": "stdout",
     "output_type": "stream",
     "text": [
      "Mean: 10.0\n"
     ]
    }
   ],
   "source": [
    "rv = gamma(a=4, loc=2, scale=2)\n",
    "print(\"Mean:\", rv.mean())"
   ]
  },
  {
   "cell_type": "markdown",
   "metadata": {},
   "source": [
    "Now, let us have a look to the available methods."
   ]
  },
  {
   "cell_type": "code",
   "execution_count": 22,
   "metadata": {
    "scrolled": true
   },
   "outputs": [
    {
     "name": "stdout",
     "output_type": "stream",
     "text": [
      "[ 6.56 13.66  8.66 16.67 10.84  6.82 12.49 12.34  3.48 16.34]\n"
     ]
    }
   ],
   "source": [
    "print(rv.rvs(size=10))  # Drawn a random sample"
   ]
  },
  {
   "cell_type": "code",
   "execution_count": 24,
   "metadata": {},
   "outputs": [
    {
     "data": {
      "image/png": "[encoded data removed]",
      "text/plain": [
       "<Figure size 432x288 with 1 Axes>"
      ]
     },
     "metadata": {
      "needs_background": "light"
     },
     "output_type": "display_data"
    }
   ],
   "source": [
    "x = np.linspace(0, 30, num=50)\n",
    "\n",
    "plt.plot(x, rv.pdf(x), label='pdf')  # Probability density function\n",
    "plt.plot(x, rv.cdf(x)/10, label='cdf / 10')  # Cumulative density function\n",
    "plt.legend(loc=\"lower right\");"
   ]
  },
  {
   "cell_type": "code",
   "execution_count": 25,
   "metadata": {},
   "outputs": [
    {
     "data": {
      "image/png": "[encoded data removed]",
      "text/plain": [
       "<Figure size 432x288 with 1 Axes>"
      ]
     },
     "metadata": {
      "needs_background": "light"
     },
     "output_type": "display_data"
    }
   ],
   "source": [
    "plt.plot(x, rv.logpdf(x), label='log pdf');  # Log of the pdf"
   ]
  },
  {
   "cell_type": "markdown",
   "metadata": {},
   "source": [
    "## 3. Descriptive statistics"
   ]
  },
  {
   "cell_type": "markdown",
   "metadata": {},
   "source": [
    "### 2.1. Usual statistics\n",
    "Basic descriptive statistics such as min, max, mean, median, std, variance and percentiles can be computed with [array methods](http://docs.scipy.org/doc/numpy/reference/generated/numpy.ndarray.html) or routines from [Numpy](http://docs.scipy.org/doc/numpy/reference/routines.statistics.html).\n",
    "Other empirical statistics such as mode and moments can be obtained with [Scipy statistical functions](http://docs.scipy.org/doc/scipy/reference/stats.html#statistical-functions)."
   ]
  },
  {
   "cell_type": "markdown",
   "metadata": {},
   "source": [
    "### 2.2. Histograms\n",
    "A common task in statisics is to estimate the pdf of a random variable, what is called density estimation.\n",
    "In a first approach, this task can be achieved by computing a histogram."
   ]
  },
  {
   "cell_type": "code",
   "execution_count": 28,
   "metadata": {},
   "outputs": [
    {
     "data": {
      "image/png": "[encoded data removed]",
      "text/plain": [
       "<Figure size 432x288 with 1 Axes>"
      ]
     },
     "metadata": {
      "needs_background": "light"
     },
     "output_type": "display_data"
    }
   ],
   "source": [
    "x = rv.rvs(size=1000)  # Draw a random sample\n",
    "\n",
    "# Plot the histogram\n",
    "hist, bins = np.histogram(x, bins=20, normed=True)\n",
    "plt.bar(bins[:-1], hist, width=bins[1]-bins[0])\n",
    "plt.xticks(bins[::3], [\"{0:0.2f}\".format(t) for t in bins[::3]]);\n",
    "\n",
    "x_pdf = np.linspace(0, 30, num=50)\n",
    "plt.plot(x_pdf, rv.pdf(x_pdf), color=\"red\", linewidth=2, label=\"pdf\")\n",
    "plt.legend();"
   ]
  },
  {
   "cell_type": "markdown",
   "metadata": {},
   "source": [
    "Alternatively,one can use Matplotlib to produce fancy plots:"
   ]
  },
  {
   "cell_type": "code",
   "execution_count": 29,
   "metadata": {},
   "outputs": [
    {
     "data": {
      "image/png": "[encoded data removed]",
      "text/plain": [
       "<Figure size 432x288 with 1 Axes>"
      ]
     },
     "metadata": {
      "needs_background": "light"
     },
     "output_type": "display_data"
    }
   ],
   "source": [
    "(hist_plt, bins_plt, patches) = plt.hist(x, bins=20, normed=True)\n",
    "plt.plot(x_pdf, rv.pdf(x_pdf), color=\"red\", linewidth=2, label=\"pdf\")\n",
    "plt.legend();"
   ]
  },
  {
   "cell_type": "markdown",
   "metadata": {},
   "source": [
    "### 2.3. Kernel density estimation\n",
    "Kernel desity estimation is a tool more efficient than a histogram for density estimation.\n",
    "In Python kde can be performed with the *gaussian_kde* function."
   ]
  },
  {
   "cell_type": "code",
   "execution_count": 30,
   "metadata": {},
   "outputs": [
    {
     "data": {
      "image/png": "[encoded data removed]",
      "text/plain": [
       "<Figure size 432x288 with 1 Axes>"
      ]
     },
     "metadata": {
      "needs_background": "light"
     },
     "output_type": "display_data"
    }
   ],
   "source": [
    "from scipy.stats import gaussian_kde\n",
    "\n",
    "kde = gaussian_kde(x)\n",
    "\n",
    "(hist_plt, bins_plt, patches) = plt.hist(x, bins=20, normed=True)\n",
    "plt.plot(x_pdf, rv.pdf(x_pdf), color=\"red\", linewidth=2, label=\"pdf\")\n",
    "plt.plot(x_pdf, kde(x_pdf), color=\"magenta\", linewidth=2, label=\"kde\")\n",
    "plt.legend();"
   ]
  },
  {
   "cell_type": "markdown",
   "metadata": {},
   "source": [
    "## 4. Hypothesis testing"
   ]
  },
  {
   "cell_type": "markdown",
   "metadata": {},
   "source": [
    "### 4.1. Analyzing one sample\n",
    "\n",
    "In python, a single sample may be analized with:\n",
    "- ttest_1samp: T-test for the mean of one group of scores;\n",
    "- kstest: Kolmogorov-Smirnov test for goodness of fit;\n",
    "- ksone: General Kolmogorov-Smirnov one-sided test;\n",
    "- chisquare: One-way chi square test;\n",
    "- anderson: Anderson-Darling test for data coming from a particular distribution."
   ]
  },
  {
   "cell_type": "code",
   "execution_count": 31,
   "metadata": {},
   "outputs": [
    {
     "name": "stdout",
     "output_type": "stream",
     "text": [
      "expon sample: p-value = 0.00 (statistics = 11.31)\n",
      "norm sample: p-value = 0.69 (statistics = -0.40)\n"
     ]
    }
   ],
   "source": [
    "from scipy import stats\n",
    "\n",
    "for rv in [stats.expon, stats.norm]:\n",
    "    tt, pval = stats.ttest_1samp(rv.rvs(size=100), 0)\n",
    "    print(\"{} sample: \".format(rv.name), end=\"\")\n",
    "    print(\"p-value = {0:0.2f} (statistics = {1:0.2f})\".format(pval, tt))"
   ]
  },
  {
   "cell_type": "markdown",
   "metadata": {},
   "source": [
    "On the one hand, the p-value for the exponential sample is small enough that we can reject the null hypothesis that the mean is $0$.\n",
    "On the other hand, with high significance levels, we cannot reject the null hypothesis for the normal sample (this is comforting !).\n",
    "\n",
    "Let us now test for a given distribution:"
   ]
  },
  {
   "cell_type": "code",
   "execution_count": 32,
   "metadata": {},
   "outputs": [
    {
     "name": "stdout",
     "output_type": "stream",
     "text": [
      "expon sample: p-value = 0.43 (statistics = 0.09)\n",
      "norm sample: p-value = 0.00 (statistics = 0.51)\n"
     ]
    }
   ],
   "source": [
    "for rv in [stats.expon, stats.norm]:\n",
    "    tt, pval = stats.kstest(rv.rvs(size=100), 'expon')\n",
    "    print(\"{} sample: \".format(rv.name), end=\"\")\n",
    "    print(\"p-value = {0:0.2f} (statistics = {1:0.2f})\".format(pval, tt))"
   ]
  },
  {
   "cell_type": "markdown",
   "metadata": {},
   "source": [
    "Again, the result is as expected."
   ]
  },
  {
   "cell_type": "markdown",
   "metadata": {},
   "source": [
    "### 4.2. Testing normality\n",
    "As a special case, several tests exist for assessing the normality of a sample:\n",
    "- kurtosistest: Tests whether a dataset has normal kurtosis;\n",
    "- skewtest: Tests whether the skew is different from the normal distribution;\n",
    "- normaltest: Tests whether a sample differs from a normal distribution (D'Agostino and Pearson's test);\n",
    "- jarque_bera: Jarque-Bera goodness of fit test on sample data;\n",
    "- shapiro: Shapiro-Wilk test for normality."
   ]
  },
  {
   "cell_type": "code",
   "execution_count": 33,
   "metadata": {},
   "outputs": [
    {
     "name": "stdout",
     "output_type": "stream",
     "text": [
      "expon sample:\n",
      "   normal skew test:    p-value = 0.00 (statistics = 5.37)\n",
      "   normal kurtosis test:    p-value = 0.00 (statistics = 4.43)\n",
      "norm sample:\n",
      "   normal skew test:    p-value = 0.30 (statistics = 1.03)\n",
      "   normal kurtosis test:    p-value = 0.80 (statistics = 0.25)\n"
     ]
    }
   ],
   "source": [
    "for rv in [stats.expon, stats.norm]:\n",
    "    print(\"{} sample:\".format(rv.name))\n",
    "    for name, test in [('skew', stats.skewtest), ('kurtosis', stats.kurtosistest)]:\n",
    "        tt, pval = test(rv.rvs(size=100))\n",
    "        print(\"   normal {} test: \".format(name), end=\"\")\n",
    "        print(\"   p-value = {0:0.2f} (statistics = {1:0.2f})\".format(pval, tt))"
   ]
  },
  {
   "cell_type": "markdown",
   "metadata": {},
   "source": [
    "Note that these two tests are combined in the normality test:"
   ]
  },
  {
   "cell_type": "code",
   "execution_count": 34,
   "metadata": {},
   "outputs": [
    {
     "name": "stdout",
     "output_type": "stream",
     "text": [
      "expon sample: p-value = 0.00 (statistics = 44.27)\n",
      "norm sample: p-value = 0.57 (statistics = 1.13)\n"
     ]
    }
   ],
   "source": [
    "for rv in [stats.expon, stats.norm]:\n",
    "    tt, pval = stats.normaltest(rv.rvs(size=100))\n",
    "    print(\"{} sample: \".format(rv.name), end=\"\")\n",
    "    print(\"p-value = {0:0.2f} (statistics = {1:0.2f})\".format(pval, tt))"
   ]
  },
  {
   "cell_type": "markdown",
   "metadata": {},
   "source": [
    "### 4.3. Comparing two samples\n",
    "Again, many tests for two samples are available in the Scipy.stats module:\n",
    "- ks_2samp: Kolmogorov-Smirnov test for 2 samples;\n",
    "- ttest_ind: T-test for the means of two independent samples of scores;\n",
    "- kstwobign: Kolmogorov-Smirnov two-sided test for large N;\n",
    "- ttest_ind_from_stats: T-test for means of two independent samples from descriptive statistics;\n",
    "- ttest_rel: T-test on TWO RELATED samples of scores, a and b;\n",
    "- mannwhitneyu: Mann-Whitney rank test on samples x and y;\n",
    "- wilcoxon: Wilcoxon signed-rank test;\n",
    "- kruskal: Kruskal-Wallis H-test for independent samples;\n",
    "- ansari: Ansari-Bradley test for equal scale parameters;\n",
    "- bartlett: Bartlett's test for equal variances;\n",
    "- levene: Levene test for equal variances;\n",
    "- anderson_ksamp: Anderson-Darling test for k-samples;\n",
    "- fligner: Fligner-Killeen test for equality of variances;\n",
    "- median_test: Mood's median test;\n",
    "- mood: Mood's test for equal scale parameters.\n",
    "\n",
    "As an example, on can test that two independent samples have identical means or that two independent samples are drawn from tre same continuous distribution:"
   ]
  },
  {
   "cell_type": "code",
   "execution_count": 35,
   "metadata": {},
   "outputs": [
    {
     "name": "stdout",
     "output_type": "stream",
     "text": [
      "p-value = 0.45 (statistics = 0.76)\n"
     ]
    }
   ],
   "source": [
    "rvs1 = stats.norm.rvs(size=100, loc=0., scale=1)\n",
    "rvs2 = stats.norm.rvs(size=200, loc=0.1, scale=2)\n",
    "\n",
    "tt, pval = stats.ttest_ind(rvs1,rvs2)\n",
    "print(\"p-value = {0:0.2f} (statistics = {1:0.2f})\".format(pval, tt))"
   ]
  },
  {
   "cell_type": "markdown",
   "metadata": {},
   "source": [
    "Here, the p-value is high enough that we cannot reject the null hypothesis that the two samples have identical average values.\n",
    "On the other hand, the following statistical test makes it possible to state that the two samples are drawn from different distribution (we reject the null hypothesis that they come from the same distribution):"
   ]
  },
  {
   "cell_type": "code",
   "execution_count": 36,
   "metadata": {},
   "outputs": [
    {
     "name": "stdout",
     "output_type": "stream",
     "text": [
      "p-value = 0.10 (statistics = 0.15)\n"
     ]
    }
   ],
   "source": [
    "tt, pval = stats.ks_2samp(rvs1, rvs2)\n",
    "print(\"p-value = {0:0.2f} (statistics = {1:0.2f})\".format(pval, tt))"
   ]
  },
  {
   "cell_type": "markdown",
   "metadata": {},
   "source": [
    "### 4.4. Other tests\n",
    "- pearsonr: Pearson correlation coefficient and the p-value for testing non-correlation;\n",
    "- spearmanr: Spearman rank-order correlation coefficient and the p-value to test for non-correlation;\n",
    "- power_divergence: Cressie-Read power divergence statistic and goodness of fit test;\n",
    "- friedmanchisquare: Friedman test for repeated measurements;\n",
    "- chi2_contingency: Chi-square test of independence of variables in a contingency table;\n",
    "- fisher_exact: Fisher exact test on a 2x2 contingency table."
   ]
  },
  {
   "cell_type": "markdown",
   "metadata": {},
   "source": [
    "## 5. Linear models\n",
    "\n",
    "[StatsModels](http://statsmodels.sourceforge.net/stable/index.html) is a scientific module based on Pandas for performing statistical analyses in Python.\n",
    "It provides tools for conducting data exploration, statistical tests and for the estimation of several statistical models.\n",
    "As a statistical package, each estimator in StatsModels comes with an extensive list of result statistics.\n"
   ]
  },
  {
   "cell_type": "markdown",
   "metadata": {
    "collapsed": true
   },
   "source": [
    "### 5.1. Linear regression\n",
    "We illustrate here a major feature of StatsModels, which is [linear regression](http://www.statsmodels.org/stable/regression.html#technical-documentation)."
   ]
  },
  {
   "cell_type": "code",
   "execution_count": 76,
   "metadata": {},
   "outputs": [],
   "source": [
    "import numpy as np\n",
    "import statsmodels.api as sm\n",
    "from statsmodels.sandbox.regression.predstd import wls_prediction_std\n",
    "import matplotlib.pyplot as plt\n",
    "%matplotlib inline\n",
    "\n",
    "# Generate data\n",
    "nsample = 50\n",
    "sig = 0.5\n",
    "x = np.linspace(0, 20, nsample)\n",
    "X = np.column_stack((x, np.sin(x), (x-5)**2, np.ones(nsample)))\n",
    "beta = [0.5, 0.5, -0.02, 5.]\n",
    "\n",
    "y_true = np.dot(X, beta)\n",
    "y = y_true + sig * np.random.normal(size=nsample)"
   ]
  },
  {
   "cell_type": "code",
   "execution_count": 77,
   "metadata": {},
   "outputs": [
    {
     "data": {
      "text/html": [
       "<table class=\"simpletable\">\n",
       "<caption>OLS Regression Results</caption>\n",
       "<tr>\n",
       "  <th>Dep. Variable:</th>            <td>y</td>        <th>  R-squared:         </th> <td>   0.948</td>\n",
       "</tr>\n",
       "<tr>\n",
       "  <th>Model:</th>                   <td>OLS</td>       <th>  Adj. R-squared:    </th> <td>   0.944</td>\n",
       "</tr>\n",
       "<tr>\n",
       "  <th>Method:</th>             <td>Least Squares</td>  <th>  F-statistic:       </th> <td>   277.2</td>\n",
       "</tr>\n",
       "<tr>\n",
       "  <th>Date:</th>             <td>Mon, 03 May 2021</td> <th>  Prob (F-statistic):</th> <td>1.88e-29</td>\n",
       "</tr>\n",
       "<tr>\n",
       "  <th>Time:</th>                 <td>08:02:55</td>     <th>  Log-Likelihood:    </th> <td> -28.035</td>\n",
       "</tr>\n",
       "<tr>\n",
       "  <th>No. Observations:</th>      <td>    50</td>      <th>  AIC:               </th> <td>   64.07</td>\n",
       "</tr>\n",
       "<tr>\n",
       "  <th>Df Residuals:</th>          <td>    46</td>      <th>  BIC:               </th> <td>   71.72</td>\n",
       "</tr>\n",
       "<tr>\n",
       "  <th>Df Model:</th>              <td>     3</td>      <th>                     </th>     <td> </td>   \n",
       "</tr>\n",
       "<tr>\n",
       "  <th>Covariance Type:</th>      <td>nonrobust</td>    <th>                     </th>     <td> </td>   \n",
       "</tr>\n",
       "</table>\n",
       "<table class=\"simpletable\">\n",
       "<tr>\n",
       "    <td></td>       <th>coef</th>     <th>std err</th>      <th>t</th>      <th>P>|t|</th>  <th>[0.025</th>    <th>0.975]</th>  \n",
       "</tr>\n",
       "<tr>\n",
       "  <th>x1</th>    <td>    0.5038</td> <td>    0.023</td> <td>   21.687</td> <td> 0.000</td> <td>    0.457</td> <td>    0.551</td>\n",
       "</tr>\n",
       "<tr>\n",
       "  <th>x2</th>    <td>    0.3745</td> <td>    0.091</td> <td>    4.100</td> <td> 0.000</td> <td>    0.191</td> <td>    0.558</td>\n",
       "</tr>\n",
       "<tr>\n",
       "  <th>x3</th>    <td>   -0.0214</td> <td>    0.002</td> <td>  -10.501</td> <td> 0.000</td> <td>   -0.026</td> <td>   -0.017</td>\n",
       "</tr>\n",
       "<tr>\n",
       "  <th>const</th> <td>    4.9540</td> <td>    0.151</td> <td>   32.887</td> <td> 0.000</td> <td>    4.651</td> <td>    5.257</td>\n",
       "</tr>\n",
       "</table>\n",
       "<table class=\"simpletable\">\n",
       "<tr>\n",
       "  <th>Omnibus:</th>       <td> 1.909</td> <th>  Durbin-Watson:     </th> <td>   1.774</td>\n",
       "</tr>\n",
       "<tr>\n",
       "  <th>Prob(Omnibus):</th> <td> 0.385</td> <th>  Jarque-Bera (JB):  </th> <td>   1.845</td>\n",
       "</tr>\n",
       "<tr>\n",
       "  <th>Skew:</th>          <td> 0.432</td> <th>  Prob(JB):          </th> <td>   0.398</td>\n",
       "</tr>\n",
       "<tr>\n",
       "  <th>Kurtosis:</th>      <td> 2.627</td> <th>  Cond. No.          </th> <td>    221.</td>\n",
       "</tr>\n",
       "</table><br/><br/>Warnings:<br/>[1] Standard Errors assume that the covariance matrix of the errors is correctly specified."
      ],
      "text/plain": [
       "<class 'statsmodels.iolib.summary.Summary'>\n",
       "\"\"\"\n",
       "                            OLS Regression Results                            \n",
       "==============================================================================\n",
       "Dep. Variable:                      y   R-squared:                       0.948\n",
       "Model:                            OLS   Adj. R-squared:                  0.944\n",
       "Method:                 Least Squares   F-statistic:                     277.2\n",
       "Date:                Mon, 03 May 2021   Prob (F-statistic):           1.88e-29\n",
       "Time:                        08:02:55   Log-Likelihood:                -28.035\n",
       "No. Observations:                  50   AIC:                             64.07\n",
       "Df Residuals:                      46   BIC:                             71.72\n",
       "Df Model:                           3                                         \n",
       "Covariance Type:            nonrobust                                         \n",
       "==============================================================================\n",
       "                 coef    std err          t      P>|t|      [0.025      0.975]\n",
       "------------------------------------------------------------------------------\n",
       "x1             0.5038      0.023     21.687      0.000       0.457       0.551\n",
       "x2             0.3745      0.091      4.100      0.000       0.191       0.558\n",
       "x3            -0.0214      0.002    -10.501      0.000      -0.026      -0.017\n",
       "const          4.9540      0.151     32.887      0.000       4.651       5.257\n",
       "==============================================================================\n",
       "Omnibus:                        1.909   Durbin-Watson:                   1.774\n",
       "Prob(Omnibus):                  0.385   Jarque-Bera (JB):                1.845\n",
       "Skew:                           0.432   Prob(JB):                        0.398\n",
       "Kurtosis:                       2.627   Cond. No.                         221.\n",
       "==============================================================================\n",
       "\n",
       "Warnings:\n",
       "[1] Standard Errors assume that the covariance matrix of the errors is correctly specified.\n",
       "\"\"\""
      ]
     },
     "execution_count": 77,
     "metadata": {},
     "output_type": "execute_result"
    }
   ],
   "source": [
    "# Fit the model\n",
    "model = sm.OLS(y, X)\n",
    "res = model.fit()\n",
    "res.summary()"
   ]
  },
  {
   "cell_type": "markdown",
   "metadata": {},
   "source": [
    "Main attributes of the fitted model are:"
   ]
  },
  {
   "cell_type": "code",
   "execution_count": 78,
   "metadata": {},
   "outputs": [
    {
     "name": "stdout",
     "output_type": "stream",
     "text": [
      "Parameters:  [ 0.5   0.37 -0.02  4.95]\n",
      "Standard errors:  [0.02 0.09 0.   0.15]\n",
      "Predicted values:  [ 4.42  4.86  5.26  5.62  5.91  6.13  6.29  6.4   6.49  6.58  6.69  6.85\n",
      "  7.05  7.32  7.62  7.95  8.29  8.6   8.87  9.07  9.21  9.28  9.3   9.29\n",
      "  9.26  9.25  9.28  9.36  9.49  9.67  9.88 10.11 10.32 10.5  10.62 10.68\n",
      " 10.66 10.59 10.48 10.34 10.21 10.12 10.06 10.06 10.11 10.21 10.32 10.43\n",
      " 10.52 10.55]\n"
     ]
    }
   ],
   "source": [
    "print('Parameters: ', res.params)\n",
    "print('Standard errors: ', res.bse)\n",
    "print('Predicted values: ', res.fittedvalues)"
   ]
  },
  {
   "cell_type": "markdown",
   "metadata": {},
   "source": [
    "A method called *predict* is also available for prediction with the estimator:"
   ]
  },
  {
   "cell_type": "code",
   "execution_count": 79,
   "metadata": {},
   "outputs": [
    {
     "data": {
      "text/plain": [
       "array([ 4.42,  4.86,  5.26,  5.62,  5.91,  6.13,  6.29,  6.4 ,  6.49,\n",
       "        6.58,  6.69,  6.85,  7.05,  7.32,  7.62,  7.95,  8.29,  8.6 ,\n",
       "        8.87,  9.07,  9.21,  9.28,  9.3 ,  9.29,  9.26,  9.25,  9.28,\n",
       "        9.36,  9.49,  9.67,  9.88, 10.11, 10.32, 10.5 , 10.62, 10.68,\n",
       "       10.66, 10.59, 10.48, 10.34, 10.21, 10.12, 10.06, 10.06, 10.11,\n",
       "       10.21, 10.32, 10.43, 10.52, 10.55])"
      ]
     },
     "execution_count": 79,
     "metadata": {},
     "output_type": "execute_result"
    }
   ],
   "source": [
    "res.predict(X)  # Same as res.fittedvalues"
   ]
  },
  {
   "cell_type": "code",
   "execution_count": 80,
   "metadata": {},
   "outputs": [
    {
     "data": {
      "image/png": "[encoded data removed]",
      "text/plain": [
       "<Figure size 432x288 with 1 Axes>"
      ]
     },
     "metadata": {
      "needs_background": "light"
     },
     "output_type": "display_data"
    }
   ],
   "source": [
    "# Plot the regression\n",
    "\n",
    "prstd, iv_l, iv_u = wls_prediction_std(res)  # Curves for standard deviation\n",
    "\n",
    "plt.plot(x, y, 'o', label=\"data\")\n",
    "plt.plot(x, y_true, 'b-', label=\"True\")\n",
    "plt.plot(x, res.fittedvalues, 'r--.', label=\"OLS\")\n",
    "plt.plot(x, iv_u, 'r--')\n",
    "plt.plot(x, iv_l, 'r--')\n",
    "plt.legend(loc='best');"
   ]
  },
  {
   "cell_type": "code",
   "execution_count": 81,
   "metadata": {},
   "outputs": [
    {
     "name": "stdout",
     "output_type": "stream",
     "text": [
      "[ 0.42 -0.35  0.23  0.36  0.41 -0.42 -0.25  0.15  0.1  -0.56  0.11  0.67\n",
      " -0.04  0.36 -0.48 -0.56 -0.43 -0.45  0.06 -0.4  -0.58 -0.03  0.5  -0.06\n",
      " -0.66  0.08  0.24  0.08  0.11  0.33 -0.09  1.09 -0.17  0.54  1.   -0.1\n",
      " -0.01  0.28 -0.39 -0.33 -0.46  0.24 -0.38  0.74  0.14 -0.47 -0.59 -0.55\n",
      "  0.25  0.3 ]\n"
     ]
    }
   ],
   "source": [
    "residues = y - res.predict(X)  # Same as res.resid\n",
    "print(residues)"
   ]
  },
  {
   "cell_type": "markdown",
   "metadata": {},
   "source": [
    "The sum of squared residuals (or residual sum of squares) is:"
   ]
  },
  {
   "cell_type": "code",
   "execution_count": 82,
   "metadata": {},
   "outputs": [
    {
     "name": "stdout",
     "output_type": "stream",
     "text": [
      "8.984845765637813 8.984845765637813\n"
     ]
    }
   ],
   "source": [
    "print(np.sum(res.resid**2), res.ssr)"
   ]
  },
  {
   "cell_type": "markdown",
   "metadata": {},
   "source": [
    "while an unbiased estimate of the variance is:"
   ]
  },
  {
   "cell_type": "code",
   "execution_count": 83,
   "metadata": {},
   "outputs": [
    {
     "name": "stdout",
     "output_type": "stream",
     "text": [
      "0.19532273403560463\n"
     ]
    }
   ],
   "source": [
    "print(res.ssr / res.df_resid)  # Same as res.scale"
   ]
  },
  {
   "cell_type": "markdown",
   "metadata": {},
   "source": [
    "The hat (or projection matrix) is:"
   ]
  },
  {
   "cell_type": "code",
   "execution_count": 84,
   "metadata": {},
   "outputs": [],
   "source": [
    "H = X.dot(np.linalg.solve(X.T.dot(X), X.T))"
   ]
  },
  {
   "cell_type": "markdown",
   "metadata": {},
   "source": [
    "Then, the studentized residuals are:"
   ]
  },
  {
   "cell_type": "code",
   "execution_count": 85,
   "metadata": {},
   "outputs": [
    {
     "name": "stdout",
     "output_type": "stream",
     "text": [
      "[ 1.06 -0.84  0.56  0.86  0.99 -1.   -0.59  0.34  0.23 -1.31  0.26  1.62\n",
      " -0.1   0.83 -1.12 -1.3  -0.99 -1.06  0.14 -0.93 -1.38 -0.06  1.16 -0.13\n",
      " -1.54  0.18  0.57  0.19  0.25  0.76 -0.21  2.68 -0.39  1.27  2.5  -0.24\n",
      " -0.01  0.64 -0.89 -0.76 -1.07  0.56 -0.89  1.82  0.33 -1.12 -1.41 -1.35\n",
      "  0.62  0.76]\n"
     ]
    }
   ],
   "source": [
    "t = res.resid / np.sqrt(res.scale*(1-np.diag(H)))  # Standardized residuals\n",
    "ts = t * np.sqrt( (res.df_resid-1) / (res.df_resid-t**2))  # Studentized residuals\n",
    "print(ts)  # Similar to res.outlier_test()[:, 0]"
   ]
  },
  {
   "cell_type": "code",
   "execution_count": 86,
   "metadata": {},
   "outputs": [
    {
     "data": {
      "text/plain": [
       "[]"
      ]
     },
     "execution_count": 86,
     "metadata": {},
     "output_type": "execute_result"
    },
    {
     "data": {
      "image/png": "[encoded data removed]",
      "text/plain": [
       "<Figure size 432x288 with 1 Axes>"
      ]
     },
     "metadata": {
      "needs_background": "light"
     },
     "output_type": "display_data"
    }
   ],
   "source": [
    "plt.figure()\n",
    "plt.plot(ts, '.')\n",
    "plt.plot([0, X.shape[0]], [-2]*2, 'r')\n",
    "plt.plot([0, X.shape[0]], [2]*2, 'r')\n",
    "outliers = np.where(res.outlier_test()[:, -1]<0.1)\n",
    "plt.plot(outliers, res.outlier_test()[outliers, 0], 'ro')"
   ]
  },
  {
   "cell_type": "markdown",
   "metadata": {},
   "source": [
    "Note that studentized residuals are only asymptotically normal."
   ]
  },
  {
   "cell_type": "code",
   "execution_count": 87,
   "metadata": {},
   "outputs": [
    {
     "name": "stdout",
     "output_type": "stream",
     "text": [
      "NormaltestResult(statistic=2.3136168144834395, pvalue=0.3144882994338331)\n"
     ]
    }
   ],
   "source": [
    "from scipy.stats import normaltest, probplot\n",
    "\n",
    "print(normaltest(ts))"
   ]
  },
  {
   "cell_type": "code",
   "execution_count": 88,
   "metadata": {},
   "outputs": [
    {
     "data": {
      "image/png": "[encoded data removed]",
      "text/plain": [
       "<Figure size 432x288 with 1 Axes>"
      ]
     },
     "metadata": {
      "needs_background": "light"
     },
     "output_type": "display_data"
    }
   ],
   "source": [
    "from scipy.stats import t as student_dist\n",
    "\n",
    "probplot(ts, dist=student_dist(df=res.df_resid-1), plot=plt);"
   ]
  },
  {
   "cell_type": "code",
   "execution_count": 89,
   "metadata": {},
   "outputs": [
    {
     "data": {
      "image/png": "[encoded data removed]",
      "text/plain": [
       "<Figure size 432x288 with 1 Axes>"
      ]
     },
     "metadata": {
      "needs_background": "light"
     },
     "output_type": "display_data"
    }
   ],
   "source": [
    "probplot(ts, dist='norm', plot=plt);"
   ]
  },
  {
   "cell_type": "code",
   "execution_count": 90,
   "metadata": {},
   "outputs": [
    {
     "data": {
      "image/png": "[encoded data removed]",
      "text/plain": [
       "<Figure size 432x288 with 1 Axes>"
      ]
     },
     "metadata": {
      "needs_background": "light"
     },
     "output_type": "display_data"
    }
   ],
   "source": [
    "probplot(res.resid, dist='norm', plot=plt);"
   ]
  },
  {
   "cell_type": "markdown",
   "metadata": {},
   "source": [
    "## References\n",
    "- [StatsModels documentation](http://statsmodels.sourceforge.net/stable/index.html).\n",
    "- [Scipy lecture notes](http://www.scipy-lectures.org/index.html).\n",
    "- To go further: [advanced visualization with Seaborn](https://stanford.edu/~mwaskom/software/seaborn/tutorial.html)."
   ]
  }
 ],
 "metadata": {
  "kernelspec": {
   "display_name": "Python 3 (ipykernel)",
   "language": "python",
   "name": "python3"
  },
  "language_info": {
   "codemirror_mode": {
    "name": "ipython",
    "version": 3
   },
   "file_extension": ".py",
   "mimetype": "text/x-python",
   "name": "python",
   "nbconvert_exporter": "python",
   "pygments_lexer": "ipython3",
   "version": "3.8.0"
  }
 },
 "nbformat": 4,
 "nbformat_minor": 1
}
