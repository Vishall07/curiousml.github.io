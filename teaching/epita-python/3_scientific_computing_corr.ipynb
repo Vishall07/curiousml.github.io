{
 "cells": [
  {
   "cell_type": "markdown",
   "id": "39dcb13e",
   "metadata": {},
   "source": [
    "# Lecture 3 : Scientific computing with Python (Correction)\n",
    "\n",
    "*November, 2021 - François HU*\n",
    "\n",
    "*Master of Science in Artificial Intelligence Systems - EPITA*\n",
    "\n",
    "*This lecture is available here: https://curiousml.github.io/*"
   ]
  },
  {
   "cell_type": "code",
   "execution_count": 1,
   "id": "2ff82217",
   "metadata": {},
   "outputs": [],
   "source": [
    "import numpy as np"
   ]
  },
  {
   "cell_type": "markdown",
   "id": "d07954ce",
   "metadata": {},
   "source": [
    "## Exercice 1"
   ]
  },
  {
   "cell_type": "markdown",
   "id": "d6c40ed8",
   "metadata": {},
   "source": [
    "generate arr1:\n",
    "\n",
    "```\n",
    "[[ 0  4  8 12 16]\n",
    " [ 1  5  9 13 17]\n",
    " [ 2  6 10 14 18]\n",
    " [ 3  7 11 15 19]]\n",
    "```"
   ]
  },
  {
   "cell_type": "code",
   "execution_count": 2,
   "id": "a4af20a3",
   "metadata": {},
   "outputs": [
    {
     "name": "stdout",
     "output_type": "stream",
     "text": [
      "[[ 0  4  8 12 16]\n",
      " [ 1  5  9 13 17]\n",
      " [ 2  6 10 14 18]\n",
      " [ 3  7 11 15 19]]\n"
     ]
    }
   ],
   "source": [
    "arr = np.arange(0, 20)\n",
    "arr1 = arr.reshape((4, 5), order='F')\n",
    "print(arr1)"
   ]
  },
  {
   "cell_type": "markdown",
   "id": "e4064e56",
   "metadata": {},
   "source": [
    "generate arr2\n",
    "\n",
    "```\n",
    "[[ 0  1  4  9 16]\n",
    " [ 1  4  9 16 25]\n",
    " [ 4  9 16 25 36]\n",
    " [ 9 16 25 36 49]]\n",
    "```"
   ]
  },
  {
   "cell_type": "code",
   "execution_count": 3,
   "id": "17ad29f0",
   "metadata": {},
   "outputs": [
    {
     "name": "stdout",
     "output_type": "stream",
     "text": [
      "[[ 0  1  4  9 16]\n",
      " [ 1  4  9 16 25]\n",
      " [ 4  9 16 25 36]\n",
      " [ 9 16 25 36 49]]\n"
     ]
    }
   ],
   "source": [
    "# method 1: with a single for loop\n",
    "\n",
    "arr2 = np.empty((4, 5), dtype=int)\n",
    "for i in range(4):\n",
    "    arr2[i] = np.arange(0+i, 5+i)**2\n",
    "\n",
    "print(arr2)"
   ]
  },
  {
   "cell_type": "code",
   "execution_count": 4,
   "id": "af66840e",
   "metadata": {},
   "outputs": [
    {
     "name": "stdout",
     "output_type": "stream",
     "text": [
      "[[ 0  1  4  9 16]\n",
      " [ 1  4  9 16 25]\n",
      " [ 4  9 16 25 36]\n",
      " [ 9 16 25 36 49]]\n"
     ]
    }
   ],
   "source": [
    "# method 2: tile method\n",
    "\n",
    "A = np.tile(np.arange(5), (4,1))\n",
    "B = np.tile(np.arange(4), (5,1)).T\n",
    "arr2 = (A+B)**2\n",
    "print(arr2)"
   ]
  },
  {
   "cell_type": "code",
   "execution_count": 5,
   "id": "1619440e",
   "metadata": {},
   "outputs": [
    {
     "name": "stdout",
     "output_type": "stream",
     "text": [
      "[[ 0  1  4  9 16]\n",
      " [ 1  4  9 16 25]\n",
      " [ 4  9 16 25 36]\n",
      " [ 9 16 25 36 49]]\n"
     ]
    }
   ],
   "source": [
    "# method 3: with mgrid method\n",
    "\n",
    "A, B = np.mgrid[0:4, 0:5]\n",
    "arr2 = (A+B)**2\n",
    "print(arr2)"
   ]
  },
  {
   "cell_type": "markdown",
   "id": "6b0eb75a",
   "metadata": {},
   "source": [
    "generate arr3\n",
    "\n",
    "```\n",
    "[[0 1 0 1 0 1]\n",
    " [1 0 1 0 1 0]\n",
    " [0 1 0 1 0 1]\n",
    " [1 0 1 0 1 0]\n",
    " [0 1 0 1 0 1]\n",
    " [1 0 1 0 1 0]]\n",
    "```"
   ]
  },
  {
   "cell_type": "code",
   "execution_count": 6,
   "id": "6a254c44",
   "metadata": {},
   "outputs": [
    {
     "name": "stdout",
     "output_type": "stream",
     "text": [
      "[[0 1 0 1 0 1]\n",
      " [1 0 1 0 1 0]\n",
      " [0 1 0 1 0 1]\n",
      " [1 0 1 0 1 0]\n",
      " [0 1 0 1 0 1]\n",
      " [1 0 1 0 1 0]]\n"
     ]
    }
   ],
   "source": [
    "arr = [[0, 1], [1, 0]]\n",
    "\n",
    "arr3 = np.tile(arr, (3, 3))\n",
    "print(arr3)"
   ]
  },
  {
   "cell_type": "markdown",
   "id": "60a78950",
   "metadata": {},
   "source": [
    "## Exercice 3\n",
    "\n",
    "extract from arr1\n",
    "\n",
    "```\n",
    "[[ 6 18 10]\n",
    " [ 7 19 11]\n",
    " [ 5 17  9]]\n",
    "```"
   ]
  },
  {
   "cell_type": "code",
   "execution_count": 7,
   "id": "044b5709",
   "metadata": {},
   "outputs": [
    {
     "name": "stdout",
     "output_type": "stream",
     "text": [
      "[[ 0  4  8 12 16]\n",
      " [ 1  5  9 13 17]\n",
      " [ 2  6 10 14 18]\n",
      " [ 3  7 11 15 19]]\n"
     ]
    }
   ],
   "source": [
    "print(arr1)"
   ]
  },
  {
   "cell_type": "code",
   "execution_count": 8,
   "id": "79364f6f",
   "metadata": {},
   "outputs": [
    {
     "name": "stdout",
     "output_type": "stream",
     "text": [
      "[[ 6 18 10]\n",
      " [ 7 19 11]\n",
      " [ 5 17  9]]\n"
     ]
    }
   ],
   "source": [
    "arr = arr1[[2, 3, 1], :]\n",
    "arr = arr[:, [1, 4, 2]]\n",
    "print(arr)"
   ]
  },
  {
   "cell_type": "markdown",
   "id": "8d353bc6",
   "metadata": {},
   "source": [
    "## Exercice 4.\n",
    "\n",
    "Replace all the items with value 0 of `arr3` by -1"
   ]
  },
  {
   "cell_type": "code",
   "execution_count": 9,
   "id": "9cfe7502",
   "metadata": {},
   "outputs": [
    {
     "name": "stdout",
     "output_type": "stream",
     "text": [
      "[[0 1 0 1 0 1]\n",
      " [1 0 1 0 1 0]\n",
      " [0 1 0 1 0 1]\n",
      " [1 0 1 0 1 0]\n",
      " [0 1 0 1 0 1]\n",
      " [1 0 1 0 1 0]]\n"
     ]
    }
   ],
   "source": [
    "print(arr3)"
   ]
  },
  {
   "cell_type": "code",
   "execution_count": 10,
   "id": "fe07a005",
   "metadata": {},
   "outputs": [
    {
     "name": "stdout",
     "output_type": "stream",
     "text": [
      "[[-1  1 -1  1 -1  1]\n",
      " [ 1 -1  1 -1  1 -1]\n",
      " [-1  1 -1  1 -1  1]\n",
      " [ 1 -1  1 -1  1 -1]\n",
      " [-1  1 -1  1 -1  1]\n",
      " [ 1 -1  1 -1  1 -1]]\n"
     ]
    }
   ],
   "source": [
    "arr3[arr3 == 0] = -1\n",
    "print(arr3)"
   ]
  },
  {
   "cell_type": "markdown",
   "id": "94a2f211",
   "metadata": {},
   "source": [
    "## Exercice 4 bis\n",
    "\n",
    "Create a random vector of size 20 (all values between $[0, 1)$) and replace:\n",
    "- the maximum value by $-1$ \n",
    "- and the second maximum value by $-2$"
   ]
  },
  {
   "cell_type": "code",
   "execution_count": 11,
   "id": "5152c766",
   "metadata": {},
   "outputs": [
    {
     "name": "stdout",
     "output_type": "stream",
     "text": [
      "[0.45872932 0.02738977 0.50322762 0.60618899 0.08398527 0.15019626\n",
      " 0.72605628 0.99079127 0.63991756 0.68164655 0.12079612 0.93871948\n",
      " 0.63168153 0.03420702 0.48203706 0.80210342 0.46730872 0.60330258\n",
      " 0.10317196 0.73161766]\n",
      "[ 0.45872932  0.02738977  0.50322762  0.60618899  0.08398527  0.15019626\n",
      "  0.72605628 -1.          0.63991756  0.68164655  0.12079612 -2.\n",
      "  0.63168153  0.03420702  0.48203706  0.80210342  0.46730872  0.60330258\n",
      "  0.10317196  0.73161766]\n"
     ]
    }
   ],
   "source": [
    "arr = np.random.rand(20)\n",
    "print(arr)\n",
    "arr[np.argmax(arr)] = -1\n",
    "arr[np.argmax(arr)] = -2\n",
    "print(arr)"
   ]
  }
 ],
 "metadata": {
  "kernelspec": {
   "display_name": "Python 3 (ipykernel)",
   "language": "python",
   "name": "python3"
  },
  "language_info": {
   "codemirror_mode": {
    "name": "ipython",
    "version": 3
   },
   "file_extension": ".py",
   "mimetype": "text/x-python",
   "name": "python",
   "nbconvert_exporter": "python",
   "pygments_lexer": "ipython3",
   "version": "3.8.0"
  }
 },
 "nbformat": 4,
 "nbformat_minor": 5
}
